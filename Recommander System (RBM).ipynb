{
  "nbformat": 4,
  "nbformat_minor": 0,
  "metadata": {
    "colab": {
      "name": "Boltzmann.ipynb",
      "version": "0.3.2",
      "provenance": [],
      "collapsed_sections": []
    },
    "kernelspec": {
      "name": "python3",
      "display_name": "Python 3"
    },
    "accelerator": "GPU"
  },
  "cells": [
    {
      "metadata": {
        "id": "8tbpeoSXWjWm",
        "colab_type": "code",
        "colab": {}
      },
      "cell_type": "code",
      "source": [
        "import pandas as pd\n",
        "import numpy as np\n",
        "import matplotlib.pyplot as plt\n",
        "%matplotlib inline\n",
        "import torch"
      ],
      "execution_count": 0,
      "outputs": []
    },
    {
      "metadata": {
        "id": "PBIFnnFkWtVx",
        "colab_type": "code",
        "outputId": "3994651e-b17a-45d6-e88b-071da66f57a3",
        "colab": {
          "base_uri": "https://localhost:8080/",
          "height": 34
        }
      },
      "cell_type": "code",
      "source": [
        "!git clone https://github.com/pantherofficial404/Recommander-System-RBM-.git"
      ],
      "execution_count": 211,
      "outputs": [
        {
          "output_type": "stream",
          "text": [
            "fatal: destination path 'Recommander-System-RBM-' already exists and is not an empty directory.\n"
          ],
          "name": "stdout"
        }
      ]
    },
    {
      "metadata": {
        "id": "oVcZYsj-Py49",
        "colab_type": "code",
        "colab": {}
      },
      "cell_type": "code",
      "source": [
        "movieDataset = pd.read_csv(\"Recommander-System-RBM-/ml-1m/movies.dat\",sep=\"::\",encoding=\"latin-1\",engine=\"python\",header=None)"
      ],
      "execution_count": 0,
      "outputs": []
    },
    {
      "metadata": {
        "id": "2FCAKWfCQAsE",
        "colab_type": "code",
        "outputId": "27c70349-dce0-432a-a1ba-e870f0461609",
        "colab": {
          "base_uri": "https://localhost:8080/",
          "height": 206
        }
      },
      "cell_type": "code",
      "source": [
        "movieDataset.columns = [\"No\",'MovieName','Category']\n",
        "movieDataset.head()"
      ],
      "execution_count": 213,
      "outputs": [
        {
          "output_type": "execute_result",
          "data": {
            "text/html": [
              "<div>\n",
              "<style scoped>\n",
              "    .dataframe tbody tr th:only-of-type {\n",
              "        vertical-align: middle;\n",
              "    }\n",
              "\n",
              "    .dataframe tbody tr th {\n",
              "        vertical-align: top;\n",
              "    }\n",
              "\n",
              "    .dataframe thead th {\n",
              "        text-align: right;\n",
              "    }\n",
              "</style>\n",
              "<table border=\"1\" class=\"dataframe\">\n",
              "  <thead>\n",
              "    <tr style=\"text-align: right;\">\n",
              "      <th></th>\n",
              "      <th>No</th>\n",
              "      <th>MovieName</th>\n",
              "      <th>Category</th>\n",
              "    </tr>\n",
              "  </thead>\n",
              "  <tbody>\n",
              "    <tr>\n",
              "      <th>0</th>\n",
              "      <td>1</td>\n",
              "      <td>Toy Story (1995)</td>\n",
              "      <td>Animation|Children's|Comedy</td>\n",
              "    </tr>\n",
              "    <tr>\n",
              "      <th>1</th>\n",
              "      <td>2</td>\n",
              "      <td>Jumanji (1995)</td>\n",
              "      <td>Adventure|Children's|Fantasy</td>\n",
              "    </tr>\n",
              "    <tr>\n",
              "      <th>2</th>\n",
              "      <td>3</td>\n",
              "      <td>Grumpier Old Men (1995)</td>\n",
              "      <td>Comedy|Romance</td>\n",
              "    </tr>\n",
              "    <tr>\n",
              "      <th>3</th>\n",
              "      <td>4</td>\n",
              "      <td>Waiting to Exhale (1995)</td>\n",
              "      <td>Comedy|Drama</td>\n",
              "    </tr>\n",
              "    <tr>\n",
              "      <th>4</th>\n",
              "      <td>5</td>\n",
              "      <td>Father of the Bride Part II (1995)</td>\n",
              "      <td>Comedy</td>\n",
              "    </tr>\n",
              "  </tbody>\n",
              "</table>\n",
              "</div>"
            ],
            "text/plain": [
              "   No                           MovieName                      Category\n",
              "0   1                    Toy Story (1995)   Animation|Children's|Comedy\n",
              "1   2                      Jumanji (1995)  Adventure|Children's|Fantasy\n",
              "2   3             Grumpier Old Men (1995)                Comedy|Romance\n",
              "3   4            Waiting to Exhale (1995)                  Comedy|Drama\n",
              "4   5  Father of the Bride Part II (1995)                        Comedy"
            ]
          },
          "metadata": {
            "tags": []
          },
          "execution_count": 213
        }
      ]
    },
    {
      "metadata": {
        "id": "DxV7wE5dQjHG",
        "colab_type": "code",
        "colab": {}
      },
      "cell_type": "code",
      "source": [
        "ratingDataset = pd.read_csv(\"Recommander-System-RBM-/ml-1m/ratings.dat\",sep=\"::\",encoding=\"latin-1\",engine=\"python\",header=None)"
      ],
      "execution_count": 0,
      "outputs": []
    },
    {
      "metadata": {
        "id": "CdtjWG5zZ2hE",
        "colab_type": "code",
        "outputId": "b4dfb2ff-4082-452b-a5c7-c07de0bf54f0",
        "colab": {
          "base_uri": "https://localhost:8080/",
          "height": 206
        }
      },
      "cell_type": "code",
      "source": [
        "ratingDataset.columns = [\"UserId\",\"MovieId\",\"Rating\",\"Timestamp\"]\n",
        "ratingDataset.head()"
      ],
      "execution_count": 215,
      "outputs": [
        {
          "output_type": "execute_result",
          "data": {
            "text/html": [
              "<div>\n",
              "<style scoped>\n",
              "    .dataframe tbody tr th:only-of-type {\n",
              "        vertical-align: middle;\n",
              "    }\n",
              "\n",
              "    .dataframe tbody tr th {\n",
              "        vertical-align: top;\n",
              "    }\n",
              "\n",
              "    .dataframe thead th {\n",
              "        text-align: right;\n",
              "    }\n",
              "</style>\n",
              "<table border=\"1\" class=\"dataframe\">\n",
              "  <thead>\n",
              "    <tr style=\"text-align: right;\">\n",
              "      <th></th>\n",
              "      <th>UserId</th>\n",
              "      <th>MovieId</th>\n",
              "      <th>Rating</th>\n",
              "      <th>Timestamp</th>\n",
              "    </tr>\n",
              "  </thead>\n",
              "  <tbody>\n",
              "    <tr>\n",
              "      <th>0</th>\n",
              "      <td>1</td>\n",
              "      <td>1193</td>\n",
              "      <td>5</td>\n",
              "      <td>978300760</td>\n",
              "    </tr>\n",
              "    <tr>\n",
              "      <th>1</th>\n",
              "      <td>1</td>\n",
              "      <td>661</td>\n",
              "      <td>3</td>\n",
              "      <td>978302109</td>\n",
              "    </tr>\n",
              "    <tr>\n",
              "      <th>2</th>\n",
              "      <td>1</td>\n",
              "      <td>914</td>\n",
              "      <td>3</td>\n",
              "      <td>978301968</td>\n",
              "    </tr>\n",
              "    <tr>\n",
              "      <th>3</th>\n",
              "      <td>1</td>\n",
              "      <td>3408</td>\n",
              "      <td>4</td>\n",
              "      <td>978300275</td>\n",
              "    </tr>\n",
              "    <tr>\n",
              "      <th>4</th>\n",
              "      <td>1</td>\n",
              "      <td>2355</td>\n",
              "      <td>5</td>\n",
              "      <td>978824291</td>\n",
              "    </tr>\n",
              "  </tbody>\n",
              "</table>\n",
              "</div>"
            ],
            "text/plain": [
              "   UserId  MovieId  Rating  Timestamp\n",
              "0       1     1193       5  978300760\n",
              "1       1      661       3  978302109\n",
              "2       1      914       3  978301968\n",
              "3       1     3408       4  978300275\n",
              "4       1     2355       5  978824291"
            ]
          },
          "metadata": {
            "tags": []
          },
          "execution_count": 215
        }
      ]
    },
    {
      "metadata": {
        "id": "wDBXDkv_Z68l",
        "colab_type": "code",
        "colab": {}
      },
      "cell_type": "code",
      "source": [
        "userDataset = pd.read_csv(\"Recommander-System-RBM-/ml-1m/users.dat\",sep=\"::\",encoding=\"latin-1\",engine=\"python\",header=None)"
      ],
      "execution_count": 0,
      "outputs": []
    },
    {
      "metadata": {
        "id": "HxjcrxqEaieU",
        "colab_type": "code",
        "outputId": "3fc4acef-e959-4245-b756-bcef79ea0c4a",
        "colab": {
          "base_uri": "https://localhost:8080/",
          "height": 206
        }
      },
      "cell_type": "code",
      "source": [
        "userDataset.columns = [\"UserId\",\"Gender\",\"Age\",\"Quotes\",\"JobCodes\"]\n",
        "userDataset.head()"
      ],
      "execution_count": 217,
      "outputs": [
        {
          "output_type": "execute_result",
          "data": {
            "text/html": [
              "<div>\n",
              "<style scoped>\n",
              "    .dataframe tbody tr th:only-of-type {\n",
              "        vertical-align: middle;\n",
              "    }\n",
              "\n",
              "    .dataframe tbody tr th {\n",
              "        vertical-align: top;\n",
              "    }\n",
              "\n",
              "    .dataframe thead th {\n",
              "        text-align: right;\n",
              "    }\n",
              "</style>\n",
              "<table border=\"1\" class=\"dataframe\">\n",
              "  <thead>\n",
              "    <tr style=\"text-align: right;\">\n",
              "      <th></th>\n",
              "      <th>UserId</th>\n",
              "      <th>Gender</th>\n",
              "      <th>Age</th>\n",
              "      <th>Quotes</th>\n",
              "      <th>JobCodes</th>\n",
              "    </tr>\n",
              "  </thead>\n",
              "  <tbody>\n",
              "    <tr>\n",
              "      <th>0</th>\n",
              "      <td>1</td>\n",
              "      <td>F</td>\n",
              "      <td>1</td>\n",
              "      <td>10</td>\n",
              "      <td>48067</td>\n",
              "    </tr>\n",
              "    <tr>\n",
              "      <th>1</th>\n",
              "      <td>2</td>\n",
              "      <td>M</td>\n",
              "      <td>56</td>\n",
              "      <td>16</td>\n",
              "      <td>70072</td>\n",
              "    </tr>\n",
              "    <tr>\n",
              "      <th>2</th>\n",
              "      <td>3</td>\n",
              "      <td>M</td>\n",
              "      <td>25</td>\n",
              "      <td>15</td>\n",
              "      <td>55117</td>\n",
              "    </tr>\n",
              "    <tr>\n",
              "      <th>3</th>\n",
              "      <td>4</td>\n",
              "      <td>M</td>\n",
              "      <td>45</td>\n",
              "      <td>7</td>\n",
              "      <td>02460</td>\n",
              "    </tr>\n",
              "    <tr>\n",
              "      <th>4</th>\n",
              "      <td>5</td>\n",
              "      <td>M</td>\n",
              "      <td>25</td>\n",
              "      <td>20</td>\n",
              "      <td>55455</td>\n",
              "    </tr>\n",
              "  </tbody>\n",
              "</table>\n",
              "</div>"
            ],
            "text/plain": [
              "   UserId Gender  Age  Quotes JobCodes\n",
              "0       1      F    1      10    48067\n",
              "1       2      M   56      16    70072\n",
              "2       3      M   25      15    55117\n",
              "3       4      M   45       7    02460\n",
              "4       5      M   25      20    55455"
            ]
          },
          "metadata": {
            "tags": []
          },
          "execution_count": 217
        }
      ]
    },
    {
      "metadata": {
        "id": "FkscPNn6cx--",
        "colab_type": "code",
        "outputId": "87396153-d2e0-49cb-8638-5dabe940c1b6",
        "colab": {
          "base_uri": "https://localhost:8080/",
          "height": 34
        }
      },
      "cell_type": "code",
      "source": [
        "trainingDataset = pd.read_csv(\"Recommander-System-RBM-/ml-100k/u1.base\",delimiter=\"\\t\")\n",
        "trainingDataset = np.array(trainingDataset,\"int\")\n",
        "trainingDataset[0]"
      ],
      "execution_count": 218,
      "outputs": [
        {
          "output_type": "execute_result",
          "data": {
            "text/plain": [
              "array([        1,         2,         3, 876893171])"
            ]
          },
          "metadata": {
            "tags": []
          },
          "execution_count": 218
        }
      ]
    },
    {
      "metadata": {
        "id": "jtgtropGdGDR",
        "colab_type": "code",
        "outputId": "adf9afa9-ab61-46c0-9780-26435e7b067a",
        "colab": {
          "base_uri": "https://localhost:8080/",
          "height": 34
        }
      },
      "cell_type": "code",
      "source": [
        "testingDataset = pd.read_csv(\"Recommander-System-RBM-/ml-100k/u1.test\",delimiter=\"\\t\")\n",
        "testingDataset = np.array(testingDataset,\"int\")\n",
        "testingDataset.shape"
      ],
      "execution_count": 219,
      "outputs": [
        {
          "output_type": "execute_result",
          "data": {
            "text/plain": [
              "(19999, 4)"
            ]
          },
          "metadata": {
            "tags": []
          },
          "execution_count": 219
        }
      ]
    },
    {
      "metadata": {
        "id": "HnuoXfA_dL-h",
        "colab_type": "code",
        "outputId": "903e6bf6-8f99-4cb2-a90b-b4fe813d2fc3",
        "colab": {
          "base_uri": "https://localhost:8080/",
          "height": 34
        }
      },
      "cell_type": "code",
      "source": [
        "numberOfUsers = int(max(max(testingDataset[:,0]),max(trainingDataset[:,0])))\n",
        "print(numberOfUsers)"
      ],
      "execution_count": 220,
      "outputs": [
        {
          "output_type": "stream",
          "text": [
            "943\n"
          ],
          "name": "stdout"
        }
      ]
    },
    {
      "metadata": {
        "id": "3k3ZEfp8fHkR",
        "colab_type": "code",
        "outputId": "db0e4504-ae1a-4ad5-c858-0dae18d489c0",
        "colab": {
          "base_uri": "https://localhost:8080/",
          "height": 34
        }
      },
      "cell_type": "code",
      "source": [
        "numberOfMovies = int(max(max(testingDataset[:,1]),max(trainingDataset[:,1])))\n",
        "print(numberOfMovies)"
      ],
      "execution_count": 221,
      "outputs": [
        {
          "output_type": "stream",
          "text": [
            "1682\n"
          ],
          "name": "stdout"
        }
      ]
    },
    {
      "metadata": {
        "id": "G8sqvpMQfRjJ",
        "colab_type": "code",
        "colab": {}
      },
      "cell_type": "code",
      "source": [
        "def converstion(dataset):\n",
        "  newDataset = []\n",
        "  for eachUser in range(1,numberOfUsers+1):\n",
        "    movieId = dataset[:,1][dataset[:,0]==eachUser]\n",
        "    movieRating = dataset[:,2][dataset[:,0]==eachUser]\n",
        "    ratings = np.zeros(numberOfMovies)\n",
        "    ratings[movieId-1] = movieRating\n",
        "    newDataset.append(list(ratings))\n",
        "  return newDataset"
      ],
      "execution_count": 0,
      "outputs": []
    },
    {
      "metadata": {
        "id": "wVziupQklxNV",
        "colab_type": "code",
        "colab": {}
      },
      "cell_type": "code",
      "source": [
        "trainingDataset = converstion(trainingDataset)"
      ],
      "execution_count": 0,
      "outputs": []
    },
    {
      "metadata": {
        "id": "SBa0ng1wmGkP",
        "colab_type": "code",
        "colab": {}
      },
      "cell_type": "code",
      "source": [
        "testingDataset = converstion(testingDataset)"
      ],
      "execution_count": 0,
      "outputs": []
    },
    {
      "metadata": {
        "id": "iEmBfQqfmL-C",
        "colab_type": "code",
        "colab": {}
      },
      "cell_type": "code",
      "source": [
        "trainingDataset = torch.FloatTensor(trainingDataset)\n",
        "testingDataset = torch.FloatTensor(testingDataset)"
      ],
      "execution_count": 0,
      "outputs": []
    },
    {
      "metadata": {
        "id": "61Z9519CWh64",
        "colab_type": "code",
        "colab": {}
      },
      "cell_type": "code",
      "source": [
        "trainingDataset[trainingDataset==0] = -1\n",
        "trainingDataset[trainingDataset==1] = 0\n",
        "trainingDataset[trainingDataset==2] = 0\n",
        "trainingDataset[trainingDataset >=3] = 1"
      ],
      "execution_count": 0,
      "outputs": []
    },
    {
      "metadata": {
        "id": "Kemri6ivbVor",
        "colab_type": "code",
        "colab": {}
      },
      "cell_type": "code",
      "source": [
        "testingDataset[testingDataset==0] = -1\n",
        "testingDataset[testingDataset==1] = 0\n",
        "testingDataset[testingDataset==2] = 0\n",
        "testingDataset[testingDataset>=3] = 1"
      ],
      "execution_count": 0,
      "outputs": []
    },
    {
      "metadata": {
        "id": "de0SHhPtb7E_",
        "colab_type": "text"
      },
      "cell_type": "markdown",
      "source": [
        "# Architecture Of Restricted Boltzmann Machine"
      ]
    },
    {
      "metadata": {
        "id": "1jUs7PMeb-z4",
        "colab_type": "code",
        "colab": {}
      },
      "cell_type": "code",
      "source": [
        "class RBM():\n",
        "  \n",
        "  def __init__(self,visibleNodes,hiddenNodes):\n",
        "    self.W = torch.randn(hiddenNodes,visibleNodes)\n",
        "    self.a = torch.randn(1,hiddenNodes)\n",
        "    self.b = torch.randn(1,visibleNodes)\n",
        "    \n",
        "  def sampleH(self,x):\n",
        "    wx = torch.mm(x,self.W.t())\n",
        "    activation = wx + self.a.expand_as(wx)\n",
        "    p_h_given_v = torch.sigmoid(activation)\n",
        "    return p_h_given_v,torch.bernoulli(p_h_given_v)\n",
        "  \n",
        "  def sampleV(self,y):\n",
        "    wy = torch.mm(y,self.W)\n",
        "    activation = wy + self.b.expand_as(wy)\n",
        "    p_v_given_h = torch.sigmoid(activation)\n",
        "    return p_v_given_h,torch.bernoulli(p_v_given_h)\n",
        "  \n",
        "  def train(self,v0,vk,ph0,phk):\n",
        "    self.W += (torch.mm(v0.t(), ph0) - torch.mm(vk.t(), phk)).t()\n",
        "    self.b += torch.sum((v0-vk),0)\n",
        "    self.a += torch.sum((ph0-phk),0)"
      ],
      "execution_count": 0,
      "outputs": []
    },
    {
      "metadata": {
        "id": "rrZUQAApBZ2X",
        "colab_type": "text"
      },
      "cell_type": "markdown",
      "source": [
        "# Creating RBM Object"
      ]
    },
    {
      "metadata": {
        "id": "JaKlG0ahpWS8",
        "colab_type": "code",
        "outputId": "3de5f257-0955-4b59-d4de-7f46336fcb67",
        "colab": {
          "base_uri": "https://localhost:8080/",
          "height": 69
        }
      },
      "cell_type": "code",
      "source": [
        "nv = len(trainingDataset[0])\n",
        "print(\"Visible Nodes:-\",nv)\n",
        "nh = 100\n",
        "print(\"Hidden Nodes :-\",nh)\n",
        "batchSize = 100\n",
        "print(\"Batch Size :-\",batchSize)\n",
        "rbm = RBM(nv,nh)"
      ],
      "execution_count": 229,
      "outputs": [
        {
          "output_type": "stream",
          "text": [
            "Visible Nodes:- 1682\n",
            "Hidden Nodes :- 100\n",
            "Batch Size :- 100\n"
          ],
          "name": "stdout"
        }
      ]
    },
    {
      "metadata": {
        "id": "AXXW3LBnBlsp",
        "colab_type": "code",
        "outputId": "c9e69e9f-7bd5-47aa-d6d8-68b377c1dee1",
        "colab": {
          "base_uri": "https://localhost:8080/",
          "height": 382
        }
      },
      "cell_type": "code",
      "source": [
        "print(\"Weights Initalized :- \",rbm.W)\n",
        "print(\"Bias For Hidden Layer :- \",rbm.a)\n",
        "print(\"Bias For Visible Layer :-\",rbm.b)"
      ],
      "execution_count": 230,
      "outputs": [
        {
          "output_type": "stream",
          "text": [
            "Weights Initalized :-  tensor([[ 0.9301, -1.1242, -0.7816,  ...,  0.4769, -1.0087,  0.9059],\n",
            "        [ 0.0560,  0.1394,  1.1202,  ...,  0.9906,  0.7042,  0.3615],\n",
            "        [ 1.2417, -0.4303, -0.1722,  ..., -0.8343, -0.7423, -2.1192],\n",
            "        ...,\n",
            "        [-0.1252, -1.4678, -2.6928,  ...,  1.4371, -1.8886,  1.4382],\n",
            "        [ 1.8453,  0.9471, -1.0218,  ..., -0.5217,  0.5059, -1.3369],\n",
            "        [ 0.4019,  0.3515,  0.6460,  ..., -0.2708,  0.5093,  0.2836]])\n",
            "Bias For Hidden Layer :-  tensor([[ 0.8789, -0.6792, -0.1912, -0.2998,  1.3332, -0.4275, -0.4483,  0.5865,\n",
            "         -1.3010,  0.6818,  0.3059, -0.0734,  1.0572,  0.4060, -0.9297, -0.1372,\n",
            "          1.0562, -0.2082,  0.5514,  0.0048, -0.0809, -0.4425, -0.4409,  0.4529,\n",
            "         -0.7482,  0.3859,  0.5992, -0.6821,  0.6502, -1.0698,  0.0736, -0.3623,\n",
            "          1.3259, -1.1378,  0.7511, -0.5309, -0.3630,  1.2903,  1.9792,  0.1572,\n",
            "          0.4208, -2.2103, -0.0289, -0.1759, -0.0205,  0.1433, -0.4506, -0.3912,\n",
            "         -0.1159, -0.7839, -1.1108, -2.0702, -0.0059,  1.5273, -0.7548,  0.5376,\n",
            "          1.4750,  0.8326, -0.6212, -2.1407,  0.0658, -1.3825,  0.4845, -1.9172,\n",
            "          0.5199,  0.1316,  0.5204, -0.7655, -0.0201, -0.8853,  0.6497, -0.4441,\n",
            "          0.7281,  0.2101, -1.0648,  1.4316, -0.0139, -0.5921,  0.8872, -0.6257,\n",
            "         -0.5409, -0.0961,  1.1120, -0.4412, -1.1957, -0.4460,  0.8167, -0.5951,\n",
            "         -0.4429, -0.0158,  0.3487, -0.3180, -1.8281,  0.0694, -0.7082,  0.2462,\n",
            "         -0.8683, -0.0647,  0.7492,  0.3245]])\n",
            "Bias For Visible Layer :- tensor([[-1.2592, -0.3991,  1.3073,  ..., -0.0392, -0.4508,  0.4344]])\n"
          ],
          "name": "stdout"
        }
      ]
    },
    {
      "metadata": {
        "id": "PTN3a_FfB-uz",
        "colab_type": "code",
        "colab": {
          "base_uri": "https://localhost:8080/",
          "height": 191
        },
        "outputId": "cd7d0517-c1f5-47f3-be95-c39911682568"
      },
      "cell_type": "code",
      "source": [
        "epochs = 10\n",
        "for epoch in range(1,epochs+1):\n",
        "  train_loss = 0\n",
        "  s = 0.0\n",
        "  for users in range(0,numberOfUsers-batchSize,batchSize):\n",
        "    vk = trainingDataset[users:users+batchSize]\n",
        "    v0 = trainingDataset[users:users+batchSize]\n",
        "    ph0,_ = rbm.sampleH(v0)\n",
        "    for k in range(10):\n",
        "      _,hk = rbm.sampleH(vk)\n",
        "      _,vk = rbm.sampleV(hk)\n",
        "      vk[v0<0] = v0[v0<0]\n",
        "    phk,_ = rbm.sampleH(vk)\n",
        "    rbm.train(v0,vk,ph0,phk)\n",
        "    train_loss += torch.mean(torch.abs(v0[v0>=0] - vk[v0>=0]))\n",
        "    s += 1\n",
        "  print(\"Epohcs :-\",epoch,\"Loss :-\",str(train_loss/s))"
      ],
      "execution_count": 231,
      "outputs": [
        {
          "output_type": "stream",
          "text": [
            "Epohcs :- 1 Loss :- tensor(0.3633)\n",
            "Epohcs :- 2 Loss :- tensor(0.2540)\n",
            "Epohcs :- 3 Loss :- tensor(0.2489)\n",
            "Epohcs :- 4 Loss :- tensor(0.2514)\n",
            "Epohcs :- 5 Loss :- tensor(0.2486)\n",
            "Epohcs :- 6 Loss :- tensor(0.2495)\n",
            "Epohcs :- 7 Loss :- tensor(0.2507)\n",
            "Epohcs :- 8 Loss :- tensor(0.2466)\n",
            "Epohcs :- 9 Loss :- tensor(0.2457)\n",
            "Epohcs :- 10 Loss :- tensor(0.2477)\n"
          ],
          "name": "stdout"
        }
      ]
    },
    {
      "metadata": {
        "id": "JtnraTK7wiML",
        "colab_type": "code",
        "colab": {
          "base_uri": "https://localhost:8080/",
          "height": 34
        },
        "outputId": "221ca511-9336-4567-e453-32e5f8dc051d"
      },
      "cell_type": "code",
      "source": [
        "test_loss = 0\n",
        "s = 0.0\n",
        "for users in range(0,numberOfUsers):\n",
        "  v = trainingDataset[users:users+1]\n",
        "  vt = testingDataset[users:users+1]\n",
        "  if len(vt[vt>=0])>0:\n",
        "    _,h = rbm.sampleH(v)\n",
        "    _,v = rbm.sampleV(h)\n",
        "    test_loss += torch.mean(torch.abs(vt[vt>=0] - v[vt>=0]))\n",
        "    s += 1\n",
        "print(\"Test Loss :-\",str(test_loss/s))"
      ],
      "execution_count": 233,
      "outputs": [
        {
          "output_type": "stream",
          "text": [
            "Test Loss :- tensor(0.2422)\n"
          ],
          "name": "stdout"
        }
      ]
    },
    {
      "metadata": {
        "id": "uHW5eELB1_vu",
        "colab_type": "code",
        "colab": {}
      },
      "cell_type": "code",
      "source": [
        ""
      ],
      "execution_count": 0,
      "outputs": []
    }
  ]
}